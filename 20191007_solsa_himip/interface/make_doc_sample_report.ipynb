{
 "cells": [
  {
   "cell_type": "code",
   "execution_count": 29,
   "metadata": {},
   "outputs": [],
   "source": [
    "import os, sys\n",
    "\n",
    "import pandas as pd\n",
    "import numpy as np\n",
    "\n",
    "import io\n",
    "\n",
    "from docx import Document\n",
    "from docx.shared import Inches, Pt\n",
    "from docx.oxml.ns import nsdecls\n",
    "from docx.oxml import parse_xml\n",
    "\n",
    "import PIL\n",
    "from PIL import Image, ImageFile\n",
    "ImageFile.LOAD_TRUNCATED_IMAGES = True"
   ]
  },
  {
   "cell_type": "code",
   "execution_count": 13,
   "metadata": {},
   "outputs": [
    {
     "data": {
      "text/plain": [
       "['ER-NC00-0046',\n",
       " 'ER-NC00-0047',\n",
       " 'ER-NC00-0053',\n",
       " 'ER-NC00-0054',\n",
       " 'ER-NC00-0055',\n",
       " 'ER-NC00-0056',\n",
       " 'ER-NC00-0060',\n",
       " 'ER-NC00-0061',\n",
       " 'ER-NC00-0063',\n",
       " 'ER-NC00-0073']"
      ]
     },
     "execution_count": 13,
     "metadata": {},
     "output_type": "execute_result"
    }
   ],
   "source": [
    "# Getting the quantitative data\n",
    "dir_excel_quanti = 'D:\\\\SOLSA\\\\Analysis_quanti\\\\LAB analysis compilation_XRF-XRD_SLN powders & cores sample.xlsx'\n",
    "\n",
    "df_quanti_all = pd.read_excel(dir_excel_quanti,sheet_name='XRD_plot_10 Cores')\n",
    "\n",
    "# Get the sample names\n",
    "col = df_quanti_all.columns\n",
    "\n",
    "names_quant = []\n",
    "for c in col:\n",
    "    if 'ER-NC' in c:\n",
    "        names_quant = names_quant + [c.split('_')[0]]\n",
    "\n",
    "dict_df_quanti = {}\n",
    "for i,name in enumerate(names_quant):\n",
    "    dict_df_quanti[name] = df_quanti_all.iloc[:,i*2:i*2+2]\n",
    "    dict_df_quanti[name].columns = ['Minerals','Prop']\n",
    "    dict_df_quanti[name] = dict_df_quanti[name].dropna()\n",
    "\n",
    "names_quant"
   ]
  },
  {
   "cell_type": "code",
   "execution_count": 14,
   "metadata": {
    "scrolled": true
   },
   "outputs": [
    {
     "name": "stdout",
     "output_type": "stream",
     "text": [
      "['11MC_harz', '11MC_kaolinite', '11MC_sap_terreuse', 'BST_1', 'ER-NC00-0046', 'ER-NC00-0046-53-54_slice_Anas', 'ER-NC00-0047', 'ER-NC00-0048', 'ER-NC00-0049', 'ER-NC00-0051', 'ER-NC00-0053', 'ER-NC00-0054', 'ER-NC00-0055', 'ER-NC00-0055-56-60_slice_Anas', 'ER-NC00-0056', 'ER-NC00-0057', 'ER-NC00-0059', 'ER-NC00-0060', 'ER-NC00-0061', 'ER-NC00-0063', 'ER-NC00-0063-73_slice_Anas', 'ER-NC00-0064', 'ER-NC00-0067', 'ER-NC00-0068', 'ER-NC00-0070', 'ER-NC00-0071', 'ER-NC00-0072', 'ER-NC00-0073', 'GR', 'HN5', 'LJ_2', 'LR']\n"
     ]
    }
   ],
   "source": [
    "dir_rap = 'D:\\\\SOLSA\\\\DATA\\\\111_fused\\\\Ech_ref\\\\_rapport_samples'\n",
    "\n",
    "\n",
    "\n",
    "\n",
    "\n",
    "fig_names = ['rgb',\n",
    "             'clustering_table_minerals',\n",
    "             'clustering_minerals_ind',\n",
    "             'custom_tree_table_minerals',\n",
    "             'custom_tree_minerals_ind',\n",
    "             'dist_table_minerals',\n",
    "             'dist_minerals_ind',\n",
    "             'lib_tree_table_minerals',\n",
    "             'lib_tree_minerals_ind',\n",
    "             'unmixing_table_minerals',\n",
    "             'unmixing_minerals_ind',\n",
    "             ]\n",
    "\n",
    "exts = ['.png','.csv']\n",
    "\n",
    "dict_fig = {}\n",
    "names = []\n",
    "\n",
    "file_list = os.listdir(dir_rap)\n",
    "\n",
    "for f in file_list:\n",
    "    if 'times' in f:\n",
    "        pass\n",
    "    else:\n",
    "        # Get the names\n",
    "        name = f\n",
    "        for sub in fig_names:\n",
    "            if sub in f:\n",
    "                name = name.replace('_' + sub,'')\n",
    "                fig_name = sub\n",
    "\n",
    "        for sub in exts:\n",
    "            name = name.replace(sub,'')\n",
    "\n",
    "        # Keep unique values\n",
    "        names = list(set(names + [name]))\n",
    "        names.sort()\n",
    "\n",
    "        # Fill the data dictionary\n",
    "        # init dictionnary\n",
    "        try:\n",
    "            dict_tmp = dict_fig[name]\n",
    "        except:\n",
    "            dict_tmp = {}\n",
    "\n",
    "        path_file = os.path.join(dir_rap,f)\n",
    "        if '.csv' in f:\n",
    "            elt = pd.read_csv(path_file)\n",
    "        elif '.png' in f:\n",
    "            elt = Image.open(path_file)\n",
    "\n",
    "        dict_fig[name] = {**dict_tmp, **{fig_name:elt}}\n",
    "\n",
    "for name in names:\n",
    "    if name in names_quant:\n",
    "        dict_fig[name] = {**dict_fig[name], **{'tab_quanti':dict_df_quanti[name]}}\n",
    "    else:\n",
    "        dict_fig[name] = {**dict_fig[name], **{'tab_quanti':''}}\n",
    "        \n",
    "print(names)"
   ]
  },
  {
   "cell_type": "code",
   "execution_count": 26,
   "metadata": {},
   "outputs": [
    {
     "data": {
      "text/plain": [
       "0"
      ]
     },
     "execution_count": 26,
     "metadata": {},
     "output_type": "execute_result"
    }
   ],
   "source": [
    "df = pd.DataFrame([[np.nan,np.nan],[np.nan,np.nan]])\n",
    "\n",
    "df.columns = ['a','b']\n",
    "\n",
    "sum(~df['a'].isna())"
   ]
  },
  {
   "cell_type": "code",
   "execution_count": 68,
   "metadata": {},
   "outputs": [],
   "source": [
    "def add_table_from_df(doc,df_in):\n",
    "    df = df_in.copy()\n",
    "    t = doc.add_table(df.shape[0] + 1, df.shape[1])\n",
    "    \n",
    "    try:\n",
    "        color = get_hex_color(df)\n",
    "        df['Color'] = ''\n",
    "    except:\n",
    "        pass\n",
    "    \n",
    "    # add the header rows\n",
    "    for j in range(df.shape[-1]):\n",
    "        t.cell(0,j).text = df.columns[j]\n",
    "        paragraph = t.cell(0,j).paragraphs[0]\n",
    "        run = paragraph.runs\n",
    "        font = run[0].font\n",
    "        font.size = Pt(9)\n",
    "        \"\"\"p_element = paragraph._element\n",
    "        print(dir(paragraph.paragraph_format))\n",
    "        print(paragraph.paragraph_format._line_spacing_rule)\n",
    "        print(paragraph.paragraph_format.keep_together)\n",
    "        print(paragraph.paragraph_format.space_before)\n",
    "        print(p_element.xpath(r'w:pPr/w:contextualSpacing'))\"\"\"\n",
    "        \n",
    "        \"\"\"cspacing = p_element.xpath(r'w:pPr/w:contextualSpacing')[0]\n",
    "        cspacing.getparent().remove(cspacing)\"\"\"\n",
    "    \n",
    "    # add the rest of the data frame\n",
    "    for i in range(df.shape[0]):\n",
    "        for j in range(df.shape[-1]):\n",
    "            t.cell(i+1,j).text = str(df.values[i,j])\n",
    "            if df.columns[j] == 'Color':\n",
    "                shading_elm_1 = parse_xml((r'<w:shd {} w:fill=\"' + color[i] + '\"/>').format(nsdecls('w')))\n",
    "                t.cell(i+1,j)._tc.get_or_add_tcPr().append(shading_elm_1)\n",
    "                t.cell(i+1,j).text = ' '\n",
    "            paragraph = t.cell(i+1,j).paragraphs[0]\n",
    "            run = paragraph.runs\n",
    "            font = run[0].font\n",
    "            font.size = Pt(9)\n",
    "            \n",
    "            \"\"\"p_element = paragraph._element\n",
    "            cspacing = p_element.xpath(r'w:pPr/w:contextualSpacing')[0]\n",
    "            cspacing.getparent().remove(cspacing)\"\"\"\n",
    "            \n",
    "def get_hex_color(df):\n",
    "    \n",
    "    return df['Color'].str.replace('<html><table border=0 width=400 bgcolor=#','').str.replace('><TR><TD> </TD></TR></table>','')\n",
    "    \n",
    "            \n",
    "def add_img_to_table(tab,img):\n",
    "    paragraph = tab.paragraphs[0]\n",
    "    run = paragraph.add_run()\n",
    "    run.add_picture(image2file(img), width = 2800000, height = 2800000)\n",
    "\n",
    "def image2file(image):\n",
    "    \"\"\"Return `image` as PNG file-like object.\"\"\"\n",
    "    image_file = io.BytesIO()\n",
    "    image.save(image_file, format=\"PNG\")\n",
    "    return image_file"
   ]
  },
  {
   "cell_type": "code",
   "execution_count": 75,
   "metadata": {},
   "outputs": [
    {
     "name": "stdout",
     "output_type": "stream",
     "text": [
      "[5.  3.5 2.5 3. ]\n",
      "[5.  3.5 2.5 3. ]\n"
     ]
    }
   ],
   "source": [
    "print(np.gradient([10,15,17,20],[1,2,3,4]))\n",
    "print(np.gradient([10,15,17,20],1))"
   ]
  },
  {
   "cell_type": "code",
   "execution_count": 72,
   "metadata": {},
   "outputs": [
    {
     "data": {
      "text/plain": [
       "dict_values(['d'])"
      ]
     },
     "execution_count": 72,
     "metadata": {},
     "output_type": "execute_result"
    }
   ],
   "source": [
    "dict = {'dd':'d'}\n",
    "\n",
    "dict.values()"
   ]
  },
  {
   "cell_type": "code",
   "execution_count": 70,
   "metadata": {},
   "outputs": [
    {
     "name": "stdout",
     "output_type": "stream",
     "text": [
      "11MC_harz\n",
      "11MC_kaolinite\n",
      "11MC_sap_terreuse\n",
      "BST_1\n",
      "ER-NC00-0046\n",
      "ER-NC00-0046-53-54_slice_Anas\n",
      "ER-NC00-0047\n",
      "ER-NC00-0048\n",
      "ER-NC00-0049\n",
      "ER-NC00-0051\n",
      "ER-NC00-0053\n",
      "ER-NC00-0054\n",
      "ER-NC00-0055\n",
      "ER-NC00-0055-56-60_slice_Anas\n",
      "ER-NC00-0056\n",
      "ER-NC00-0057\n",
      "ER-NC00-0059\n",
      "ER-NC00-0060\n",
      "ER-NC00-0061\n",
      "ER-NC00-0063\n",
      "ER-NC00-0063-73_slice_Anas\n",
      "ER-NC00-0064\n",
      "ER-NC00-0067\n",
      "ER-NC00-0068\n",
      "ER-NC00-0070\n",
      "ER-NC00-0071\n",
      "ER-NC00-0072\n",
      "ER-NC00-0073\n",
      "GR\n",
      "HN5\n",
      "LJ_2\n",
      "LR\n"
     ]
    }
   ],
   "source": [
    "doc = Document()\n",
    "\n",
    "doc.add_heading('Tests methods samples', 0)\n",
    "\n",
    "for name in names:\n",
    "    doc.add_heading(name, 1)\n",
    "    print(name)\n",
    "    table = doc.add_table(rows=len(dict_fig[name]), cols=2, style=\"Table Grid\")\n",
    "    \n",
    "    for ifig,fig in enumerate(['tab_quanti'] + fig_names):\n",
    "        fig_tmp = dict_fig[name][fig]\n",
    "        \n",
    "        col = ifig % 2\n",
    "        row_title = int(np.floor(ifig/2)*2)\n",
    "        row_fig = row_title + 1\n",
    "        \n",
    "        if isinstance(fig_tmp,pd.DataFrame):           \n",
    "            table.cell(row_title,col).text = fig\n",
    "            add_table_from_df(table.cell(row_fig,col),fig_tmp)\n",
    "            \n",
    "        elif isinstance(fig_tmp,PIL.PngImagePlugin.PngImageFile):\n",
    "            table.cell(row_title,col).text = fig\n",
    "            add_img_to_table(table.cell(row_fig,col),fig_tmp)\n",
    "            \n",
    "        elif isinstance(fig_tmp,str):\n",
    "            table.cell(row_title,col).text = fig\n",
    "            table.cell(row_fig,col).text = fig_tmp\n",
    "\n",
    "\"\"\"for p in doc.paragraphs:\n",
    "    p_element = p._element\n",
    "    cspacing = p_element.xpath(r'w:pPr/w:contextualSpacing')[0]\n",
    "    cspacing.getparent().remove(cspacing)\"\"\"\n",
    "            \n",
    "doc.save('demo.docx')"
   ]
  },
  {
   "cell_type": "code",
   "execution_count": 148,
   "metadata": {},
   "outputs": [
    {
     "name": "stdout",
     "output_type": "stream",
     "text": [
      "['rgb', 'clustering_minerals_ind', 'clustering_table_minerals', 'custom_tree_minerals_ind', 'custom_tree_table_minerals', 'dist_minerals_ind', 'dist_table_minerals', 'lib_tree_minerals_ind', 'lib_tree_table_minerals', 'unmixing_minerals_ind', 'unmixing_table_minerals']\n"
     ]
    }
   ],
   "source": [
    "fig_tmp = dict_fig[names[0]]['clustering_minerals_ind']\n",
    "isinstance(fig_tmp,PIL.PngImagePlugin.PngImageFile)\n",
    "\n",
    "print(fig_names)"
   ]
  },
  {
   "cell_type": "code",
   "execution_count": 119,
   "metadata": {},
   "outputs": [],
   "source": [
    "pic = \"some_picture.jpg\"\n",
    "document = Document()\n",
    "tbl = document.add_table(rows=3, cols=2, style=\"Table Grid\")\n",
    "paragraph = tbl.cell(1,1).paragraphs[0]\n",
    "run = paragraph.add_run()\n",
    "run.add_picture(image2file(fig_tmp), width = 140000, height = 140000)\n",
    "document.save(\"demo.docx\")"
   ]
  }
 ],
 "metadata": {
  "kernelspec": {
   "display_name": "Python 3",
   "language": "python",
   "name": "python3"
  },
  "language_info": {
   "codemirror_mode": {
    "name": "ipython",
    "version": 3
   },
   "file_extension": ".py",
   "mimetype": "text/x-python",
   "name": "python",
   "nbconvert_exporter": "python",
   "pygments_lexer": "ipython3",
   "version": "3.7.4"
  }
 },
 "nbformat": 4,
 "nbformat_minor": 4
}
